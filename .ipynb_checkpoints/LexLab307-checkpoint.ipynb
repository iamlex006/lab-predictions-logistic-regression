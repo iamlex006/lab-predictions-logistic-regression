{
 "cells": [
  {
   "cell_type": "code",
   "execution_count": 1,
   "id": "04ad21f1",
   "metadata": {},
   "outputs": [
    {
     "name": "stdout",
     "output_type": "stream",
     "text": [
      "········\n"
     ]
    }
   ],
   "source": [
    "import pymysql\n",
    "from sqlalchemy import create_engine\n",
    "import pandas as pd\n",
    "import getpass  # To get the password without showing the input\n",
    "password = getpass.getpass()"
   ]
  },
  {
   "cell_type": "code",
   "execution_count": 2,
   "id": "323758b2",
   "metadata": {
    "scrolled": true
   },
   "outputs": [
    {
     "data": {
      "text/html": [
       "<div>\n",
       "<style scoped>\n",
       "    .dataframe tbody tr th:only-of-type {\n",
       "        vertical-align: middle;\n",
       "    }\n",
       "\n",
       "    .dataframe tbody tr th {\n",
       "        vertical-align: top;\n",
       "    }\n",
       "\n",
       "    .dataframe thead th {\n",
       "        text-align: right;\n",
       "    }\n",
       "</style>\n",
       "<table border=\"1\" class=\"dataframe\">\n",
       "  <thead>\n",
       "    <tr style=\"text-align: right;\">\n",
       "      <th></th>\n",
       "      <th>inventory_id</th>\n",
       "      <th>rental_date</th>\n",
       "      <th>film_id</th>\n",
       "      <th>release_year</th>\n",
       "      <th>length</th>\n",
       "      <th>rental_rate</th>\n",
       "      <th>rating</th>\n",
       "      <th>category_id</th>\n",
       "      <th>month</th>\n",
       "      <th>rental_flag</th>\n",
       "    </tr>\n",
       "  </thead>\n",
       "  <tbody>\n",
       "    <tr>\n",
       "      <th>0</th>\n",
       "      <td>93</td>\n",
       "      <td>2005-08-02 01:16:59</td>\n",
       "      <td>19</td>\n",
       "      <td>2006</td>\n",
       "      <td>113</td>\n",
       "      <td>0.99</td>\n",
       "      <td>PG</td>\n",
       "      <td>1</td>\n",
       "      <td>8</td>\n",
       "      <td>0</td>\n",
       "    </tr>\n",
       "    <tr>\n",
       "      <th>1</th>\n",
       "      <td>93</td>\n",
       "      <td>2005-08-18 04:26:54</td>\n",
       "      <td>19</td>\n",
       "      <td>2006</td>\n",
       "      <td>113</td>\n",
       "      <td>0.99</td>\n",
       "      <td>PG</td>\n",
       "      <td>1</td>\n",
       "      <td>8</td>\n",
       "      <td>0</td>\n",
       "    </tr>\n",
       "    <tr>\n",
       "      <th>2</th>\n",
       "      <td>94</td>\n",
       "      <td>2005-06-20 20:35:28</td>\n",
       "      <td>19</td>\n",
       "      <td>2006</td>\n",
       "      <td>113</td>\n",
       "      <td>0.99</td>\n",
       "      <td>PG</td>\n",
       "      <td>1</td>\n",
       "      <td>6</td>\n",
       "      <td>0</td>\n",
       "    </tr>\n",
       "    <tr>\n",
       "      <th>3</th>\n",
       "      <td>94</td>\n",
       "      <td>2005-07-09 05:01:58</td>\n",
       "      <td>19</td>\n",
       "      <td>2006</td>\n",
       "      <td>113</td>\n",
       "      <td>0.99</td>\n",
       "      <td>PG</td>\n",
       "      <td>1</td>\n",
       "      <td>7</td>\n",
       "      <td>0</td>\n",
       "    </tr>\n",
       "    <tr>\n",
       "      <th>4</th>\n",
       "      <td>94</td>\n",
       "      <td>2005-07-30 08:02:39</td>\n",
       "      <td>19</td>\n",
       "      <td>2006</td>\n",
       "      <td>113</td>\n",
       "      <td>0.99</td>\n",
       "      <td>PG</td>\n",
       "      <td>1</td>\n",
       "      <td>7</td>\n",
       "      <td>0</td>\n",
       "    </tr>\n",
       "  </tbody>\n",
       "</table>\n",
       "</div>"
      ],
      "text/plain": [
       "   inventory_id         rental_date  film_id  release_year  length  \\\n",
       "0            93 2005-08-02 01:16:59       19          2006     113   \n",
       "1            93 2005-08-18 04:26:54       19          2006     113   \n",
       "2            94 2005-06-20 20:35:28       19          2006     113   \n",
       "3            94 2005-07-09 05:01:58       19          2006     113   \n",
       "4            94 2005-07-30 08:02:39       19          2006     113   \n",
       "\n",
       "   rental_rate rating  category_id  month rental_flag  \n",
       "0         0.99     PG            1      8           0  \n",
       "1         0.99     PG            1      8           0  \n",
       "2         0.99     PG            1      6           0  \n",
       "3         0.99     PG            1      7           0  \n",
       "4         0.99     PG            1      7           0  "
      ]
     },
     "execution_count": 2,
     "metadata": {},
     "output_type": "execute_result"
    }
   ],
   "source": [
    "connection_string = 'mysql+pymysql://root:' + password + '@localhost/sakila'\n",
    "engine = create_engine(connection_string)\n",
    "query = '''SELECT r.inventory_id, r.rental_date, f.film_id, f.release_year, f.length, f.rental_rate, f.rating, fc.category_id, month(r.rental_date) AS month,\n",
    "\tCASE\n",
    "\tWHEN ((month(rental_date)) =5) then '1'\n",
    "\tELSE '0'\n",
    "\tEND AS 'rental_flag'\n",
    "FROM sakila.rental r\n",
    "JOIN sakila.inventory i\n",
    "ON  r.inventory_id = i.inventory_id\n",
    "JOIN sakila.film f\n",
    "ON i.film_id = f.film_id\n",
    "JOIN film_category fc\n",
    "ON f.film_id = fc.film_id;'''\n",
    "\n",
    "\n",
    "data = pd.read_sql_query(query, engine)\n",
    "data.head()"
   ]
  },
  {
   "cell_type": "code",
   "execution_count": 3,
   "id": "3e2d219e",
   "metadata": {},
   "outputs": [],
   "source": [
    "#Will now check the data"
   ]
  },
  {
   "cell_type": "code",
   "execution_count": 4,
   "id": "a2982223",
   "metadata": {},
   "outputs": [
    {
     "data": {
      "text/plain": [
       "(16045, 10)"
      ]
     },
     "execution_count": 4,
     "metadata": {},
     "output_type": "execute_result"
    }
   ],
   "source": [
    "data.shape"
   ]
  },
  {
   "cell_type": "code",
   "execution_count": 5,
   "id": "447c0c72",
   "metadata": {},
   "outputs": [
    {
     "data": {
      "text/plain": [
       "inventory_id             int64\n",
       "rental_date     datetime64[ns]\n",
       "film_id                  int64\n",
       "release_year             int64\n",
       "length                   int64\n",
       "rental_rate            float64\n",
       "rating                  object\n",
       "category_id              int64\n",
       "month                    int64\n",
       "rental_flag             object\n",
       "dtype: object"
      ]
     },
     "execution_count": 5,
     "metadata": {},
     "output_type": "execute_result"
    }
   ],
   "source": [
    "data.dtypes"
   ]
  },
  {
   "cell_type": "code",
   "execution_count": 6,
   "id": "bc5c8a5c",
   "metadata": {
    "scrolled": true
   },
   "outputs": [
    {
     "data": {
      "text/html": [
       "<div>\n",
       "<style scoped>\n",
       "    .dataframe tbody tr th:only-of-type {\n",
       "        vertical-align: middle;\n",
       "    }\n",
       "\n",
       "    .dataframe tbody tr th {\n",
       "        vertical-align: top;\n",
       "    }\n",
       "\n",
       "    .dataframe thead th {\n",
       "        text-align: right;\n",
       "    }\n",
       "</style>\n",
       "<table border=\"1\" class=\"dataframe\">\n",
       "  <thead>\n",
       "    <tr style=\"text-align: right;\">\n",
       "      <th></th>\n",
       "      <th>count</th>\n",
       "      <th>mean</th>\n",
       "      <th>std</th>\n",
       "      <th>min</th>\n",
       "      <th>25%</th>\n",
       "      <th>50%</th>\n",
       "      <th>75%</th>\n",
       "      <th>max</th>\n",
       "    </tr>\n",
       "  </thead>\n",
       "  <tbody>\n",
       "    <tr>\n",
       "      <th>inventory_id</th>\n",
       "      <td>16045.0</td>\n",
       "      <td>2291.699782</td>\n",
       "      <td>1322.293121</td>\n",
       "      <td>1.00</td>\n",
       "      <td>1154.00</td>\n",
       "      <td>2291.00</td>\n",
       "      <td>3433.00</td>\n",
       "      <td>4581.00</td>\n",
       "    </tr>\n",
       "    <tr>\n",
       "      <th>film_id</th>\n",
       "      <td>16045.0</td>\n",
       "      <td>501.077719</td>\n",
       "      <td>288.531551</td>\n",
       "      <td>1.00</td>\n",
       "      <td>255.00</td>\n",
       "      <td>496.00</td>\n",
       "      <td>753.00</td>\n",
       "      <td>1000.00</td>\n",
       "    </tr>\n",
       "    <tr>\n",
       "      <th>release_year</th>\n",
       "      <td>16045.0</td>\n",
       "      <td>2006.000000</td>\n",
       "      <td>0.000000</td>\n",
       "      <td>2006.00</td>\n",
       "      <td>2006.00</td>\n",
       "      <td>2006.00</td>\n",
       "      <td>2006.00</td>\n",
       "      <td>2006.00</td>\n",
       "    </tr>\n",
       "    <tr>\n",
       "      <th>length</th>\n",
       "      <td>16045.0</td>\n",
       "      <td>114.969274</td>\n",
       "      <td>40.101750</td>\n",
       "      <td>46.00</td>\n",
       "      <td>81.00</td>\n",
       "      <td>114.00</td>\n",
       "      <td>148.00</td>\n",
       "      <td>185.00</td>\n",
       "    </tr>\n",
       "    <tr>\n",
       "      <th>rental_rate</th>\n",
       "      <td>16045.0</td>\n",
       "      <td>2.942509</td>\n",
       "      <td>1.649698</td>\n",
       "      <td>0.99</td>\n",
       "      <td>0.99</td>\n",
       "      <td>2.99</td>\n",
       "      <td>4.99</td>\n",
       "      <td>4.99</td>\n",
       "    </tr>\n",
       "    <tr>\n",
       "      <th>category_id</th>\n",
       "      <td>16045.0</td>\n",
       "      <td>8.363852</td>\n",
       "      <td>4.650593</td>\n",
       "      <td>1.00</td>\n",
       "      <td>4.00</td>\n",
       "      <td>8.00</td>\n",
       "      <td>13.00</td>\n",
       "      <td>16.00</td>\n",
       "    </tr>\n",
       "    <tr>\n",
       "      <th>month</th>\n",
       "      <td>16045.0</td>\n",
       "      <td>7.009162</td>\n",
       "      <td>1.035570</td>\n",
       "      <td>1.00</td>\n",
       "      <td>7.00</td>\n",
       "      <td>7.00</td>\n",
       "      <td>8.00</td>\n",
       "      <td>8.00</td>\n",
       "    </tr>\n",
       "  </tbody>\n",
       "</table>\n",
       "</div>"
      ],
      "text/plain": [
       "                count         mean          std      min      25%      50%  \\\n",
       "inventory_id  16045.0  2291.699782  1322.293121     1.00  1154.00  2291.00   \n",
       "film_id       16045.0   501.077719   288.531551     1.00   255.00   496.00   \n",
       "release_year  16045.0  2006.000000     0.000000  2006.00  2006.00  2006.00   \n",
       "length        16045.0   114.969274    40.101750    46.00    81.00   114.00   \n",
       "rental_rate   16045.0     2.942509     1.649698     0.99     0.99     2.99   \n",
       "category_id   16045.0     8.363852     4.650593     1.00     4.00     8.00   \n",
       "month         16045.0     7.009162     1.035570     1.00     7.00     7.00   \n",
       "\n",
       "                  75%      max  \n",
       "inventory_id  3433.00  4581.00  \n",
       "film_id        753.00  1000.00  \n",
       "release_year  2006.00  2006.00  \n",
       "length         148.00   185.00  \n",
       "rental_rate      4.99     4.99  \n",
       "category_id     13.00    16.00  \n",
       "month            8.00     8.00  "
      ]
     },
     "execution_count": 6,
     "metadata": {},
     "output_type": "execute_result"
    }
   ],
   "source": [
    "data.describe().T"
   ]
  },
  {
   "cell_type": "code",
   "execution_count": 7,
   "id": "d536fbc7",
   "metadata": {},
   "outputs": [
    {
     "data": {
      "text/plain": [
       "inventory_id    0\n",
       "rental_date     0\n",
       "film_id         0\n",
       "release_year    0\n",
       "length          0\n",
       "rental_rate     0\n",
       "rating          0\n",
       "category_id     0\n",
       "month           0\n",
       "rental_flag     0\n",
       "dtype: int64"
      ]
     },
     "execution_count": 7,
     "metadata": {},
     "output_type": "execute_result"
    }
   ],
   "source": [
    "data.isna().sum()"
   ]
  },
  {
   "cell_type": "code",
   "execution_count": 8,
   "id": "be4a32e0",
   "metadata": {},
   "outputs": [],
   "source": [
    "#It seems all movies were released in 2006 so won't be useful\n",
    "#Will explore values of rental rates as might be just a few values so categorical rather than numerical. "
   ]
  },
  {
   "cell_type": "code",
   "execution_count": 9,
   "id": "4608f2b7",
   "metadata": {},
   "outputs": [
    {
     "data": {
      "text/plain": [
       "0.99    5653\n",
       "4.99    5272\n",
       "2.99    5120\n",
       "Name: rental_rate, dtype: int64"
      ]
     },
     "execution_count": 9,
     "metadata": {},
     "output_type": "execute_result"
    }
   ],
   "source": [
    "data['rental_rate'].value_counts()"
   ]
  },
  {
   "cell_type": "code",
   "execution_count": 10,
   "id": "e869e55a",
   "metadata": {},
   "outputs": [],
   "source": [
    "data['rental_rate'] = data['rental_rate'].astype('object')"
   ]
  },
  {
   "cell_type": "code",
   "execution_count": 11,
   "id": "e31ba59f",
   "metadata": {},
   "outputs": [],
   "source": [
    "#Category ID is a cateogrical, so changing type as well. "
   ]
  },
  {
   "cell_type": "code",
   "execution_count": 19,
   "id": "47f65e19",
   "metadata": {},
   "outputs": [
    {
     "data": {
      "text/plain": [
       "0    14889\n",
       "1     1156\n",
       "Name: rental_flag, dtype: int64"
      ]
     },
     "execution_count": 19,
     "metadata": {},
     "output_type": "execute_result"
    }
   ],
   "source": [
    "data['rental_flag'].value_counts()"
   ]
  },
  {
   "cell_type": "code",
   "execution_count": 13,
   "id": "bf755317",
   "metadata": {},
   "outputs": [],
   "source": [
    "data['rental_rate'] = data['rental_rate'].astype('object')"
   ]
  },
  {
   "cell_type": "code",
   "execution_count": 14,
   "id": "48cb391c",
   "metadata": {},
   "outputs": [
    {
     "data": {
      "text/plain": [
       "inventory_id             int64\n",
       "rental_date     datetime64[ns]\n",
       "film_id                  int64\n",
       "release_year             int64\n",
       "length                   int64\n",
       "rental_rate             object\n",
       "rating                  object\n",
       "category_id              int64\n",
       "month                    int64\n",
       "rental_flag             object\n",
       "dtype: object"
      ]
     },
     "execution_count": 14,
     "metadata": {},
     "output_type": "execute_result"
    }
   ],
   "source": [
    "data.dtypes"
   ]
  },
  {
   "cell_type": "code",
   "execution_count": 15,
   "id": "f85aff75",
   "metadata": {},
   "outputs": [],
   "source": [
    "data['rental_flag'] = data['rental_flag'].astype(str).astype(int)"
   ]
  },
  {
   "cell_type": "code",
   "execution_count": 16,
   "id": "1cb6e826",
   "metadata": {},
   "outputs": [
    {
     "data": {
      "text/plain": [
       "inventory_id             int64\n",
       "rental_date     datetime64[ns]\n",
       "film_id                  int64\n",
       "release_year             int64\n",
       "length                   int64\n",
       "rental_rate             object\n",
       "rating                  object\n",
       "category_id              int64\n",
       "month                    int64\n",
       "rental_flag              int64\n",
       "dtype: object"
      ]
     },
     "execution_count": 16,
     "metadata": {},
     "output_type": "execute_result"
    }
   ],
   "source": [
    "data.dtypes"
   ]
  },
  {
   "cell_type": "code",
   "execution_count": null,
   "id": "44762912",
   "metadata": {},
   "outputs": [],
   "source": []
  },
  {
   "cell_type": "code",
   "execution_count": null,
   "id": "c018e5e4",
   "metadata": {},
   "outputs": [],
   "source": []
  },
  {
   "cell_type": "code",
   "execution_count": 17,
   "id": "13559e81",
   "metadata": {},
   "outputs": [
    {
     "data": {
      "text/html": [
       "<div>\n",
       "<style scoped>\n",
       "    .dataframe tbody tr th:only-of-type {\n",
       "        vertical-align: middle;\n",
       "    }\n",
       "\n",
       "    .dataframe tbody tr th {\n",
       "        vertical-align: top;\n",
       "    }\n",
       "\n",
       "    .dataframe thead th {\n",
       "        text-align: right;\n",
       "    }\n",
       "</style>\n",
       "<table border=\"1\" class=\"dataframe\">\n",
       "  <thead>\n",
       "    <tr style=\"text-align: right;\">\n",
       "      <th></th>\n",
       "      <th>inventory_id</th>\n",
       "      <th>rental_date</th>\n",
       "      <th>film_id</th>\n",
       "      <th>release_year</th>\n",
       "      <th>length</th>\n",
       "      <th>rental_rate</th>\n",
       "      <th>rating</th>\n",
       "      <th>category_id</th>\n",
       "      <th>month</th>\n",
       "      <th>rental_flag</th>\n",
       "    </tr>\n",
       "  </thead>\n",
       "  <tbody>\n",
       "    <tr>\n",
       "      <th>0</th>\n",
       "      <td>93</td>\n",
       "      <td>2005-08-02 01:16:59</td>\n",
       "      <td>19</td>\n",
       "      <td>2006</td>\n",
       "      <td>113</td>\n",
       "      <td>0.99</td>\n",
       "      <td>PG</td>\n",
       "      <td>1</td>\n",
       "      <td>8</td>\n",
       "      <td>0</td>\n",
       "    </tr>\n",
       "    <tr>\n",
       "      <th>1</th>\n",
       "      <td>93</td>\n",
       "      <td>2005-08-18 04:26:54</td>\n",
       "      <td>19</td>\n",
       "      <td>2006</td>\n",
       "      <td>113</td>\n",
       "      <td>0.99</td>\n",
       "      <td>PG</td>\n",
       "      <td>1</td>\n",
       "      <td>8</td>\n",
       "      <td>0</td>\n",
       "    </tr>\n",
       "    <tr>\n",
       "      <th>2</th>\n",
       "      <td>94</td>\n",
       "      <td>2005-06-20 20:35:28</td>\n",
       "      <td>19</td>\n",
       "      <td>2006</td>\n",
       "      <td>113</td>\n",
       "      <td>0.99</td>\n",
       "      <td>PG</td>\n",
       "      <td>1</td>\n",
       "      <td>6</td>\n",
       "      <td>0</td>\n",
       "    </tr>\n",
       "    <tr>\n",
       "      <th>3</th>\n",
       "      <td>94</td>\n",
       "      <td>2005-07-09 05:01:58</td>\n",
       "      <td>19</td>\n",
       "      <td>2006</td>\n",
       "      <td>113</td>\n",
       "      <td>0.99</td>\n",
       "      <td>PG</td>\n",
       "      <td>1</td>\n",
       "      <td>7</td>\n",
       "      <td>0</td>\n",
       "    </tr>\n",
       "    <tr>\n",
       "      <th>4</th>\n",
       "      <td>94</td>\n",
       "      <td>2005-07-30 08:02:39</td>\n",
       "      <td>19</td>\n",
       "      <td>2006</td>\n",
       "      <td>113</td>\n",
       "      <td>0.99</td>\n",
       "      <td>PG</td>\n",
       "      <td>1</td>\n",
       "      <td>7</td>\n",
       "      <td>0</td>\n",
       "    </tr>\n",
       "    <tr>\n",
       "      <th>...</th>\n",
       "      <td>...</td>\n",
       "      <td>...</td>\n",
       "      <td>...</td>\n",
       "      <td>...</td>\n",
       "      <td>...</td>\n",
       "      <td>...</td>\n",
       "      <td>...</td>\n",
       "      <td>...</td>\n",
       "      <td>...</td>\n",
       "      <td>...</td>\n",
       "    </tr>\n",
       "    <tr>\n",
       "      <th>16040</th>\n",
       "      <td>4535</td>\n",
       "      <td>2005-05-30 18:45:17</td>\n",
       "      <td>989</td>\n",
       "      <td>2006</td>\n",
       "      <td>74</td>\n",
       "      <td>4.99</td>\n",
       "      <td>R</td>\n",
       "      <td>16</td>\n",
       "      <td>5</td>\n",
       "      <td>1</td>\n",
       "    </tr>\n",
       "    <tr>\n",
       "      <th>16041</th>\n",
       "      <td>4535</td>\n",
       "      <td>2005-06-15 09:03:52</td>\n",
       "      <td>989</td>\n",
       "      <td>2006</td>\n",
       "      <td>74</td>\n",
       "      <td>4.99</td>\n",
       "      <td>R</td>\n",
       "      <td>16</td>\n",
       "      <td>6</td>\n",
       "      <td>0</td>\n",
       "    </tr>\n",
       "    <tr>\n",
       "      <th>16042</th>\n",
       "      <td>4535</td>\n",
       "      <td>2005-07-07 06:38:31</td>\n",
       "      <td>989</td>\n",
       "      <td>2006</td>\n",
       "      <td>74</td>\n",
       "      <td>4.99</td>\n",
       "      <td>R</td>\n",
       "      <td>16</td>\n",
       "      <td>7</td>\n",
       "      <td>0</td>\n",
       "    </tr>\n",
       "    <tr>\n",
       "      <th>16043</th>\n",
       "      <td>4535</td>\n",
       "      <td>2005-07-30 00:12:41</td>\n",
       "      <td>989</td>\n",
       "      <td>2006</td>\n",
       "      <td>74</td>\n",
       "      <td>4.99</td>\n",
       "      <td>R</td>\n",
       "      <td>16</td>\n",
       "      <td>7</td>\n",
       "      <td>0</td>\n",
       "    </tr>\n",
       "    <tr>\n",
       "      <th>16044</th>\n",
       "      <td>4535</td>\n",
       "      <td>2005-08-23 02:06:01</td>\n",
       "      <td>989</td>\n",
       "      <td>2006</td>\n",
       "      <td>74</td>\n",
       "      <td>4.99</td>\n",
       "      <td>R</td>\n",
       "      <td>16</td>\n",
       "      <td>8</td>\n",
       "      <td>0</td>\n",
       "    </tr>\n",
       "  </tbody>\n",
       "</table>\n",
       "<p>16045 rows × 10 columns</p>\n",
       "</div>"
      ],
      "text/plain": [
       "       inventory_id         rental_date  film_id  release_year  length  \\\n",
       "0                93 2005-08-02 01:16:59       19          2006     113   \n",
       "1                93 2005-08-18 04:26:54       19          2006     113   \n",
       "2                94 2005-06-20 20:35:28       19          2006     113   \n",
       "3                94 2005-07-09 05:01:58       19          2006     113   \n",
       "4                94 2005-07-30 08:02:39       19          2006     113   \n",
       "...             ...                 ...      ...           ...     ...   \n",
       "16040          4535 2005-05-30 18:45:17      989          2006      74   \n",
       "16041          4535 2005-06-15 09:03:52      989          2006      74   \n",
       "16042          4535 2005-07-07 06:38:31      989          2006      74   \n",
       "16043          4535 2005-07-30 00:12:41      989          2006      74   \n",
       "16044          4535 2005-08-23 02:06:01      989          2006      74   \n",
       "\n",
       "      rental_rate rating  category_id  month  rental_flag  \n",
       "0            0.99     PG            1      8            0  \n",
       "1            0.99     PG            1      8            0  \n",
       "2            0.99     PG            1      6            0  \n",
       "3            0.99     PG            1      7            0  \n",
       "4            0.99     PG            1      7            0  \n",
       "...           ...    ...          ...    ...          ...  \n",
       "16040        4.99      R           16      5            1  \n",
       "16041        4.99      R           16      6            0  \n",
       "16042        4.99      R           16      7            0  \n",
       "16043        4.99      R           16      7            0  \n",
       "16044        4.99      R           16      8            0  \n",
       "\n",
       "[16045 rows x 10 columns]"
      ]
     },
     "execution_count": 17,
     "metadata": {},
     "output_type": "execute_result"
    }
   ],
   "source": [
    "data_grouped = data.groupby(\"film_id\")[\"rental_flag\"].sum()\n",
    "data"
   ]
  },
  {
   "cell_type": "code",
   "execution_count": null,
   "id": "03d1bfe6",
   "metadata": {},
   "outputs": [],
   "source": []
  },
  {
   "cell_type": "code",
   "execution_count": null,
   "id": "7423984d",
   "metadata": {},
   "outputs": [],
   "source": []
  },
  {
   "cell_type": "code",
   "execution_count": null,
   "id": "a48b587e",
   "metadata": {},
   "outputs": [],
   "source": []
  },
  {
   "cell_type": "code",
   "execution_count": null,
   "id": "ba1caa01",
   "metadata": {},
   "outputs": [],
   "source": []
  },
  {
   "cell_type": "code",
   "execution_count": 18,
   "id": "af6a1297",
   "metadata": {},
   "outputs": [
    {
     "data": {
      "text/plain": [
       "<AxesSubplot:xlabel='length', ylabel='count'>"
      ]
     },
     "execution_count": 18,
     "metadata": {},
     "output_type": "execute_result"
    },
    {
     "data": {
      "image/png": "[encoded data removed]",
      "text/plain": [
       "<Figure size 432x288 with 1 Axes>"
      ]
     },
     "metadata": {
      "needs_background": "light"
     },
     "output_type": "display_data"
    }
   ],
   "source": [
    "import seaborn as sns\n",
    "%matplotlib inline\n",
    "sns.countplot(x=data.length)\n"
   ]
  },
  {
   "cell_type": "code",
   "execution_count": null,
   "id": "5af34439",
   "metadata": {},
   "outputs": [],
   "source": []
  },
  {
   "cell_type": "code",
   "execution_count": null,
   "id": "0233842c",
   "metadata": {},
   "outputs": [],
   "source": []
  },
  {
   "cell_type": "code",
   "execution_count": null,
   "id": "c302e4ac",
   "metadata": {},
   "outputs": [],
   "source": []
  },
  {
   "cell_type": "code",
   "execution_count": null,
   "id": "36d269b0",
   "metadata": {},
   "outputs": [],
   "source": []
  },
  {
   "cell_type": "code",
   "execution_count": null,
   "id": "c296d777",
   "metadata": {},
   "outputs": [],
   "source": []
  },
  {
   "cell_type": "code",
   "execution_count": null,
   "id": "6afe8f3a",
   "metadata": {},
   "outputs": [],
   "source": []
  },
  {
   "cell_type": "code",
   "execution_count": null,
   "id": "beb11b8e",
   "metadata": {},
   "outputs": [],
   "source": []
  },
  {
   "cell_type": "code",
   "execution_count": null,
   "id": "d2c80dfc",
   "metadata": {},
   "outputs": [],
   "source": []
  }
 ],
 "metadata": {
  "kernelspec": {
   "display_name": "Python 3 (ipykernel)",
   "language": "python",
   "name": "python3"
  },
  "language_info": {
   "codemirror_mode": {
    "name": "ipython",
    "version": 3
   },
   "file_extension": ".py",
   "mimetype": "text/x-python",
   "name": "python",
   "nbconvert_exporter": "python",
   "pygments_lexer": "ipython3",
   "version": "3.9.7"
  }
 },
 "nbformat": 4,
 "nbformat_minor": 5
}
